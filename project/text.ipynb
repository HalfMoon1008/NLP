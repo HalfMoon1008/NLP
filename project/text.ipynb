{
 "cells": [
  {
   "cell_type": "markdown",
   "metadata": {},
   "source": [
    "<a href = https://wikidocs.net/64515> PyTorch로 시작하는 딥 러닝 입문 _ Wikidocs</a>\n",
    "\n",
    "<a href = https://velog.io/@dltjrdud37/%ED%95%9C%EA%B5%AD%EC%96%B4-%ED%86%A0%ED%81%B0%ED%99%94by-konlpy-%EB%8B%A8%EC%96%B4%EC%9E%84%EB%B2%A0%EB%94%A9Word2Vec> 한국어 토큰화 </a>"
   ]
  },
  {
   "cell_type": "markdown",
   "metadata": {},
   "source": [
    "# 전처리"
   ]
  },
  {
   "cell_type": "code",
   "execution_count": 3,
   "metadata": {},
   "outputs": [],
   "source": [
    "import pandas as pd\n",
    "import numpy as np"
   ]
  },
  {
   "cell_type": "code",
   "execution_count": 4,
   "metadata": {},
   "outputs": [],
   "source": [
    "path = \"/Users/sanghyun/Desktop/Coding/NLP/project/crawling/data/\"\n",
    "\n",
    "ly1 = pd.read_csv(path + \"melon_ballad(301).csv\")\n",
    "ly2 = pd.read_csv(path + \"melon_ballad(302).csv\")\n",
    "ly3 = pd.read_csv(path + \"melon_ballad(303).csv\")\n",
    "ly4 = pd.read_csv(path + \"melon_ballad(304).csv\")\n",
    "ly5 = pd.read_csv(path + \"melon_ballad(305).csv\")"
   ]
  },
  {
   "cell_type": "code",
   "execution_count": 5,
   "metadata": {},
   "outputs": [
    {
     "data": {
      "text/html": [
       "<div>\n",
       "<style scoped>\n",
       "    .dataframe tbody tr th:only-of-type {\n",
       "        vertical-align: middle;\n",
       "    }\n",
       "\n",
       "    .dataframe tbody tr th {\n",
       "        vertical-align: top;\n",
       "    }\n",
       "\n",
       "    .dataframe thead th {\n",
       "        text-align: right;\n",
       "    }\n",
       "</style>\n",
       "<table border=\"1\" class=\"dataframe\">\n",
       "  <thead>\n",
       "    <tr style=\"text-align: right;\">\n",
       "      <th></th>\n",
       "      <th>가사</th>\n",
       "    </tr>\n",
       "  </thead>\n",
       "  <tbody>\n",
       "    <tr>\n",
       "      <th>0</th>\n",
       "      <td>오래 두었지 내방 창가엔 너란 기억의 화분 많은 계절이 흐르고 꽃은 다 졌지만 그래...</td>\n",
       "    </tr>\n",
       "    <tr>\n",
       "      <th>2</th>\n",
       "      <td>어느샌가 노을 진 하늘 너머 마중 나온 달빛이 우릴 반겨주네요 좀 더 걸을까요 조금...</td>\n",
       "    </tr>\n",
       "    <tr>\n",
       "      <th>3</th>\n",
       "      <td>어떻게 전할까 널 향한 내 진심 말로는 부족해 나 이렇게 노래해 겁이 많고 불안한 ...</td>\n",
       "    </tr>\n",
       "    <tr>\n",
       "      <th>4</th>\n",
       "      <td>그대 없는 하루가 또 의미도 없이 지나가네요 Just stay 내 곁에서 머물러 줄...</td>\n",
       "    </tr>\n",
       "    <tr>\n",
       "      <th>7</th>\n",
       "      <td>만약 나를 떠난다면 사랑했었던 기억도 없을거야 가끔 내 생각이 난다면 시간이 잊게 ...</td>\n",
       "    </tr>\n",
       "    <tr>\n",
       "      <th>...</th>\n",
       "      <td>...</td>\n",
       "    </tr>\n",
       "    <tr>\n",
       "      <th>45</th>\n",
       "      <td>애써 나 웃어봐도 웃으려는게 더 슬퍼 보여 내 눈빛은 솔직해 안 슬프단 거짓말도 보...</td>\n",
       "    </tr>\n",
       "    <tr>\n",
       "      <th>46</th>\n",
       "      <td>자다 일어난 네 얼굴도 나에게는 보여도 좋아 술에 취해 털어 논 얘기들은 끝까지 꼭...</td>\n",
       "    </tr>\n",
       "    <tr>\n",
       "      <th>47</th>\n",
       "      <td>현아 날 버리지 말아요 현아 날 떠나지 말아요 현아 당신 떠나시면 이 슬픔 정말 어...</td>\n",
       "    </tr>\n",
       "    <tr>\n",
       "      <th>48</th>\n",
       "      <td>그때는 믿지 않았지 웃어버렸지 사랑하면서도 헤어져야 한다는 말에 아직도 믿진 않지만...</td>\n",
       "    </tr>\n",
       "    <tr>\n",
       "      <th>49</th>\n",
       "      <td>단 한번 단 한번밖에 못해도 그래도 널 사랑할 수 있을까 내 전불 다 걸고 내 앞에...</td>\n",
       "    </tr>\n",
       "  </tbody>\n",
       "</table>\n",
       "<p>205 rows × 1 columns</p>\n",
       "</div>"
      ],
      "text/plain": [
       "                                                   가사\n",
       "0   오래 두었지 내방 창가엔 너란 기억의 화분 많은 계절이 흐르고 꽃은 다 졌지만 그래...\n",
       "2   어느샌가 노을 진 하늘 너머 마중 나온 달빛이 우릴 반겨주네요 좀 더 걸을까요 조금...\n",
       "3   어떻게 전할까 널 향한 내 진심 말로는 부족해 나 이렇게 노래해 겁이 많고 불안한 ...\n",
       "4   그대 없는 하루가 또 의미도 없이 지나가네요 Just stay 내 곁에서 머물러 줄...\n",
       "7   만약 나를 떠난다면 사랑했었던 기억도 없을거야 가끔 내 생각이 난다면 시간이 잊게 ...\n",
       "..                                                ...\n",
       "45  애써 나 웃어봐도 웃으려는게 더 슬퍼 보여 내 눈빛은 솔직해 안 슬프단 거짓말도 보...\n",
       "46  자다 일어난 네 얼굴도 나에게는 보여도 좋아 술에 취해 털어 논 얘기들은 끝까지 꼭...\n",
       "47  현아 날 버리지 말아요 현아 날 떠나지 말아요 현아 당신 떠나시면 이 슬픔 정말 어...\n",
       "48  그때는 믿지 않았지 웃어버렸지 사랑하면서도 헤어져야 한다는 말에 아직도 믿진 않지만...\n",
       "49  단 한번 단 한번밖에 못해도 그래도 널 사랑할 수 있을까 내 전불 다 걸고 내 앞에...\n",
       "\n",
       "[205 rows x 1 columns]"
      ]
     },
     "execution_count": 5,
     "metadata": {},
     "output_type": "execute_result"
    }
   ],
   "source": [
    "# 병합\n",
    "raw_list = [ly1,ly2,ly3,ly4,ly5]\n",
    "df = pd.concat(raw_list)\n",
    "\n",
    "# 번호 컬럼 drop\n",
    "df.columns = [\"ㅇㅇ\",\"가수\",\"제목\",\"가사\"]\n",
    "df.drop(['ㅇㅇ'], axis=1, inplace=True)\n",
    "\n",
    "# 중복 drop\n",
    "df = df.drop_duplicates()\n",
    "\n",
    "# 가수, 제목, 가사 없는거 drop\n",
    "df.pop('가수')\n",
    "df.pop('제목')\n",
    "df.drop(df[df['가사']=='[가사 준비중]'].index, inplace=True)\n",
    "\n",
    "# \\n을 공백으로 변경\n",
    "df['가사']= df['가사'].str.replace(pat=r'[^\\w]',repl=r' ',regex=True)\n",
    "\n",
    "df"
   ]
  },
  {
   "cell_type": "markdown",
   "metadata": {},
   "source": [
    "- 여기까지가 merge 이후 단계"
   ]
  },
  {
   "cell_type": "markdown",
   "metadata": {},
   "source": [
    "# Tokenization"
   ]
  },
  {
   "cell_type": "code",
   "execution_count": 6,
   "metadata": {},
   "outputs": [
    {
     "name": "stderr",
     "output_type": "stream",
     "text": [
      "[nltk_data] Downloading package punkt to /Users/sanghyun/nltk_data...\n",
      "[nltk_data]   Package punkt is already up-to-date!\n"
     ]
    },
    {
     "data": {
      "text/plain": [
       "True"
      ]
     },
     "execution_count": 6,
     "metadata": {},
     "output_type": "execute_result"
    }
   ],
   "source": [
    "from nltk.tokenize import word_tokenize\n",
    "from nltk.tokenize import WordPunctTokenizer\n",
    "from torchtext.data.utils import get_tokenizer\n",
    "from torchtext.vocab import build_vocab_from_iterator\n",
    "\n",
    "import nltk\n",
    "nltk.download('punkt')"
   ]
  },
  {
   "cell_type": "code",
   "execution_count": 7,
   "metadata": {},
   "outputs": [
    {
     "data": {
      "text/html": [
       "<div>\n",
       "<style scoped>\n",
       "    .dataframe tbody tr th:only-of-type {\n",
       "        vertical-align: middle;\n",
       "    }\n",
       "\n",
       "    .dataframe tbody tr th {\n",
       "        vertical-align: top;\n",
       "    }\n",
       "\n",
       "    .dataframe thead th {\n",
       "        text-align: right;\n",
       "    }\n",
       "</style>\n",
       "<table border=\"1\" class=\"dataframe\">\n",
       "  <thead>\n",
       "    <tr style=\"text-align: right;\">\n",
       "      <th></th>\n",
       "      <th>가사</th>\n",
       "    </tr>\n",
       "  </thead>\n",
       "  <tbody>\n",
       "    <tr>\n",
       "      <th>0</th>\n",
       "      <td>오래 두었지 내방 창가엔 너란 기억의 화분 많은 계절이 흐르고 꽃은 다 졌지만 그래...</td>\n",
       "    </tr>\n",
       "    <tr>\n",
       "      <th>2</th>\n",
       "      <td>어느샌가 노을 진 하늘 너머 마중 나온 달빛이 우릴 반겨주네요 좀 더 걸을까요 조금...</td>\n",
       "    </tr>\n",
       "    <tr>\n",
       "      <th>3</th>\n",
       "      <td>어떻게 전할까 널 향한 내 진심 말로는 부족해 나 이렇게 노래해 겁이 많고 불안한 ...</td>\n",
       "    </tr>\n",
       "    <tr>\n",
       "      <th>4</th>\n",
       "      <td>그대 없는 하루가 또 의미도 없이 지나가네요 Just stay 내 곁에서 머물러 줄...</td>\n",
       "    </tr>\n",
       "    <tr>\n",
       "      <th>7</th>\n",
       "      <td>만약 나를 떠난다면 사랑했었던 기억도 없을거야 가끔 내 생각이 난다면 시간이 잊게 ...</td>\n",
       "    </tr>\n",
       "    <tr>\n",
       "      <th>...</th>\n",
       "      <td>...</td>\n",
       "    </tr>\n",
       "    <tr>\n",
       "      <th>45</th>\n",
       "      <td>애써 나 웃어봐도 웃으려는게 더 슬퍼 보여 내 눈빛은 솔직해 안 슬프단 거짓말도 보...</td>\n",
       "    </tr>\n",
       "    <tr>\n",
       "      <th>46</th>\n",
       "      <td>자다 일어난 네 얼굴도 나에게는 보여도 좋아 술에 취해 털어 논 얘기들은 끝까지 꼭...</td>\n",
       "    </tr>\n",
       "    <tr>\n",
       "      <th>47</th>\n",
       "      <td>현아 날 버리지 말아요 현아 날 떠나지 말아요 현아 당신 떠나시면 이 슬픔 정말 어...</td>\n",
       "    </tr>\n",
       "    <tr>\n",
       "      <th>48</th>\n",
       "      <td>그때는 믿지 않았지 웃어버렸지 사랑하면서도 헤어져야 한다는 말에 아직도 믿진 않지만...</td>\n",
       "    </tr>\n",
       "    <tr>\n",
       "      <th>49</th>\n",
       "      <td>단 한번 단 한번밖에 못해도 그래도 널 사랑할 수 있을까 내 전불 다 걸고 내 앞에...</td>\n",
       "    </tr>\n",
       "  </tbody>\n",
       "</table>\n",
       "<p>205 rows × 1 columns</p>\n",
       "</div>"
      ],
      "text/plain": [
       "                                                   가사\n",
       "0   오래 두었지 내방 창가엔 너란 기억의 화분 많은 계절이 흐르고 꽃은 다 졌지만 그래...\n",
       "2   어느샌가 노을 진 하늘 너머 마중 나온 달빛이 우릴 반겨주네요 좀 더 걸을까요 조금...\n",
       "3   어떻게 전할까 널 향한 내 진심 말로는 부족해 나 이렇게 노래해 겁이 많고 불안한 ...\n",
       "4   그대 없는 하루가 또 의미도 없이 지나가네요 Just stay 내 곁에서 머물러 줄...\n",
       "7   만약 나를 떠난다면 사랑했었던 기억도 없을거야 가끔 내 생각이 난다면 시간이 잊게 ...\n",
       "..                                                ...\n",
       "45  애써 나 웃어봐도 웃으려는게 더 슬퍼 보여 내 눈빛은 솔직해 안 슬프단 거짓말도 보...\n",
       "46  자다 일어난 네 얼굴도 나에게는 보여도 좋아 술에 취해 털어 논 얘기들은 끝까지 꼭...\n",
       "47  현아 날 버리지 말아요 현아 날 떠나지 말아요 현아 당신 떠나시면 이 슬픔 정말 어...\n",
       "48  그때는 믿지 않았지 웃어버렸지 사랑하면서도 헤어져야 한다는 말에 아직도 믿진 않지만...\n",
       "49  단 한번 단 한번밖에 못해도 그래도 널 사랑할 수 있을까 내 전불 다 걸고 내 앞에...\n",
       "\n",
       "[205 rows x 1 columns]"
      ]
     },
     "execution_count": 7,
     "metadata": {},
     "output_type": "execute_result"
    }
   ],
   "source": [
    "lyrics = df.copy()\n",
    "lyrics"
   ]
  },
  {
   "cell_type": "code",
   "execution_count": 8,
   "metadata": {},
   "outputs": [
    {
     "name": "stderr",
     "output_type": "stream",
     "text": [
      "/var/folders/t1/vscwc_091vq9zqnq6nv5gdp00000gn/T/ipykernel_76034/1399038347.py:2: FutureWarning: The default value of regex will change from True to False in a future version.\n",
      "  lyrics['가사'] = lyrics['가사'].str.replace(\"[^ㄱ-ㅎㅏ-ㅣ가-힣 ]\", \"\")\n"
     ]
    },
    {
     "data": {
      "text/html": [
       "<div>\n",
       "<style scoped>\n",
       "    .dataframe tbody tr th:only-of-type {\n",
       "        vertical-align: middle;\n",
       "    }\n",
       "\n",
       "    .dataframe tbody tr th {\n",
       "        vertical-align: top;\n",
       "    }\n",
       "\n",
       "    .dataframe thead th {\n",
       "        text-align: right;\n",
       "    }\n",
       "</style>\n",
       "<table border=\"1\" class=\"dataframe\">\n",
       "  <thead>\n",
       "    <tr style=\"text-align: right;\">\n",
       "      <th></th>\n",
       "      <th>가사</th>\n",
       "    </tr>\n",
       "  </thead>\n",
       "  <tbody>\n",
       "    <tr>\n",
       "      <th>0</th>\n",
       "      <td>오래 두었지 내방 창가엔 너란 기억의 화분 많은 계절이 흐르고 꽃은 다 졌지만 그래...</td>\n",
       "    </tr>\n",
       "    <tr>\n",
       "      <th>2</th>\n",
       "      <td>어느샌가 노을 진 하늘 너머 마중 나온 달빛이 우릴 반겨주네요 좀 더 걸을까요 조금...</td>\n",
       "    </tr>\n",
       "    <tr>\n",
       "      <th>3</th>\n",
       "      <td>어떻게 전할까 널 향한 내 진심 말로는 부족해 나 이렇게 노래해 겁이 많고 불안한 ...</td>\n",
       "    </tr>\n",
       "    <tr>\n",
       "      <th>4</th>\n",
       "      <td>그대 없는 하루가 또 의미도 없이 지나가네요   내 곁에서 머물러 줄 수 없나요 혼...</td>\n",
       "    </tr>\n",
       "    <tr>\n",
       "      <th>7</th>\n",
       "      <td>만약 나를 떠난다면 사랑했었던 기억도 없을거야 가끔 내 생각이 난다면 시간이 잊게 ...</td>\n",
       "    </tr>\n",
       "    <tr>\n",
       "      <th>...</th>\n",
       "      <td>...</td>\n",
       "    </tr>\n",
       "    <tr>\n",
       "      <th>45</th>\n",
       "      <td>애써 나 웃어봐도 웃으려는게 더 슬퍼 보여 내 눈빛은 솔직해 안 슬프단 거짓말도 보...</td>\n",
       "    </tr>\n",
       "    <tr>\n",
       "      <th>46</th>\n",
       "      <td>자다 일어난 네 얼굴도 나에게는 보여도 좋아 술에 취해 털어 논 얘기들은 끝까지 꼭...</td>\n",
       "    </tr>\n",
       "    <tr>\n",
       "      <th>47</th>\n",
       "      <td>현아 날 버리지 말아요 현아 날 떠나지 말아요 현아 당신 떠나시면 이 슬픔 정말 어...</td>\n",
       "    </tr>\n",
       "    <tr>\n",
       "      <th>48</th>\n",
       "      <td>그때는 믿지 않았지 웃어버렸지 사랑하면서도 헤어져야 한다는 말에 아직도 믿진 않지만...</td>\n",
       "    </tr>\n",
       "    <tr>\n",
       "      <th>49</th>\n",
       "      <td>단 한번 단 한번밖에 못해도 그래도 널 사랑할 수 있을까 내 전불 다 걸고 내 앞에...</td>\n",
       "    </tr>\n",
       "  </tbody>\n",
       "</table>\n",
       "<p>205 rows × 1 columns</p>\n",
       "</div>"
      ],
      "text/plain": [
       "                                                   가사\n",
       "0   오래 두었지 내방 창가엔 너란 기억의 화분 많은 계절이 흐르고 꽃은 다 졌지만 그래...\n",
       "2   어느샌가 노을 진 하늘 너머 마중 나온 달빛이 우릴 반겨주네요 좀 더 걸을까요 조금...\n",
       "3   어떻게 전할까 널 향한 내 진심 말로는 부족해 나 이렇게 노래해 겁이 많고 불안한 ...\n",
       "4   그대 없는 하루가 또 의미도 없이 지나가네요   내 곁에서 머물러 줄 수 없나요 혼...\n",
       "7   만약 나를 떠난다면 사랑했었던 기억도 없을거야 가끔 내 생각이 난다면 시간이 잊게 ...\n",
       "..                                                ...\n",
       "45  애써 나 웃어봐도 웃으려는게 더 슬퍼 보여 내 눈빛은 솔직해 안 슬프단 거짓말도 보...\n",
       "46  자다 일어난 네 얼굴도 나에게는 보여도 좋아 술에 취해 털어 논 얘기들은 끝까지 꼭...\n",
       "47  현아 날 버리지 말아요 현아 날 떠나지 말아요 현아 당신 떠나시면 이 슬픔 정말 어...\n",
       "48  그때는 믿지 않았지 웃어버렸지 사랑하면서도 헤어져야 한다는 말에 아직도 믿진 않지만...\n",
       "49  단 한번 단 한번밖에 못해도 그래도 널 사랑할 수 있을까 내 전불 다 걸고 내 앞에...\n",
       "\n",
       "[205 rows x 1 columns]"
      ]
     },
     "execution_count": 8,
     "metadata": {},
     "output_type": "execute_result"
    }
   ],
   "source": [
    "# 영어 삭제\n",
    "lyrics['가사'] = lyrics['가사'].str.replace(\"[^ㄱ-ㅎㅏ-ㅣ가-힣 ]\", \"\")\n",
    "lyrics"
   ]
  },
  {
   "cell_type": "code",
   "execution_count": 9,
   "metadata": {},
   "outputs": [],
   "source": [
    "from konlpy.tag import Mecab, Hannanum, Kkma, Okt, Komoran"
   ]
  },
  {
   "cell_type": "code",
   "execution_count": 10,
   "metadata": {},
   "outputs": [],
   "source": [
    "# 토큰화 함수 : 토큰 타입을 변경하고 싶으면 return 부분 수정\n",
    "# Mecab..은 안쓸래... \n",
    "\n",
    "hannanum = Hannanum()\n",
    "kkma = Kkma()\n",
    "komoran = Komoran()\n",
    "okt = Okt()\n",
    "\n",
    "def tokenizer(row):\n",
    "    return okt.morphs(row)"
   ]
  },
  {
   "cell_type": "markdown",
   "metadata": {},
   "source": [
    "모델 시간<br><img src=\"./img/modelTime.png\" width=\"600\" height=\"700\">"
   ]
  },
  {
   "cell_type": "code",
   "execution_count": 11,
   "metadata": {},
   "outputs": [
    {
     "data": {
      "text/html": [
       "<div>\n",
       "<style scoped>\n",
       "    .dataframe tbody tr th:only-of-type {\n",
       "        vertical-align: middle;\n",
       "    }\n",
       "\n",
       "    .dataframe tbody tr th {\n",
       "        vertical-align: top;\n",
       "    }\n",
       "\n",
       "    .dataframe thead th {\n",
       "        text-align: right;\n",
       "    }\n",
       "</style>\n",
       "<table border=\"1\" class=\"dataframe\">\n",
       "  <thead>\n",
       "    <tr style=\"text-align: right;\">\n",
       "      <th></th>\n",
       "      <th>가사</th>\n",
       "      <th>lyrics_token</th>\n",
       "    </tr>\n",
       "  </thead>\n",
       "  <tbody>\n",
       "    <tr>\n",
       "      <th>0</th>\n",
       "      <td>오래 두었지 내방 창가엔 너란 기억의 화분 많은 계절이 흐르고 꽃은 다 졌지만 그래...</td>\n",
       "      <td>[오래, 두었지, 내, 방, 창가, 엔, 너, 란, 기억, 의, 화분, 많은, 계절...</td>\n",
       "    </tr>\n",
       "    <tr>\n",
       "      <th>2</th>\n",
       "      <td>어느샌가 노을 진 하늘 너머 마중 나온 달빛이 우릴 반겨주네요 좀 더 걸을까요 조금...</td>\n",
       "      <td>[어느샌가, 노을, 진, 하늘, 너머, 마중, 나온, 달빛, 이, 우릴, 반겨주네요...</td>\n",
       "    </tr>\n",
       "    <tr>\n",
       "      <th>3</th>\n",
       "      <td>어떻게 전할까 널 향한 내 진심 말로는 부족해 나 이렇게 노래해 겁이 많고 불안한 ...</td>\n",
       "      <td>[어떻게, 전, 할까, 널, 향, 한, 내, 진심, 말, 로는, 부족해, 나, 이렇...</td>\n",
       "    </tr>\n",
       "    <tr>\n",
       "      <th>4</th>\n",
       "      <td>그대 없는 하루가 또 의미도 없이 지나가네요   내 곁에서 머물러 줄 수 없나요 혼...</td>\n",
       "      <td>[그대, 없는, 하루, 가, 또, 의미, 도, 없이, 지나가네요, 내, 곁, 에서,...</td>\n",
       "    </tr>\n",
       "    <tr>\n",
       "      <th>7</th>\n",
       "      <td>만약 나를 떠난다면 사랑했었던 기억도 없을거야 가끔 내 생각이 난다면 시간이 잊게 ...</td>\n",
       "      <td>[만약, 나를, 떠난다면, 사랑, 했었던, 기억, 도, 없을거야, 가끔, 내, 생각...</td>\n",
       "    </tr>\n",
       "    <tr>\n",
       "      <th>...</th>\n",
       "      <td>...</td>\n",
       "      <td>...</td>\n",
       "    </tr>\n",
       "    <tr>\n",
       "      <th>45</th>\n",
       "      <td>애써 나 웃어봐도 웃으려는게 더 슬퍼 보여 내 눈빛은 솔직해 안 슬프단 거짓말도 보...</td>\n",
       "      <td>[애써, 나, 웃어, 봐도, 웃으려는, 게, 더, 슬퍼, 보여, 내, 눈빛, 은, ...</td>\n",
       "    </tr>\n",
       "    <tr>\n",
       "      <th>46</th>\n",
       "      <td>자다 일어난 네 얼굴도 나에게는 보여도 좋아 술에 취해 털어 논 얘기들은 끝까지 꼭...</td>\n",
       "      <td>[자다, 일어난, 네, 얼굴, 도, 나, 에게는, 보여도, 좋아, 술, 에, 취해,...</td>\n",
       "    </tr>\n",
       "    <tr>\n",
       "      <th>47</th>\n",
       "      <td>현아 날 버리지 말아요 현아 날 떠나지 말아요 현아 당신 떠나시면 이 슬픔 정말 어...</td>\n",
       "      <td>[현아, 날, 버리지, 말아요, 현아, 날, 떠나지, 말아요, 현아, 당신, 떠나시...</td>\n",
       "    </tr>\n",
       "    <tr>\n",
       "      <th>48</th>\n",
       "      <td>그때는 믿지 않았지 웃어버렸지 사랑하면서도 헤어져야 한다는 말에 아직도 믿진 않지만...</td>\n",
       "      <td>[그때, 는, 믿지, 않았지, 웃어, 버렸지, 사랑, 하면서도, 헤어져야, 한다는,...</td>\n",
       "    </tr>\n",
       "    <tr>\n",
       "      <th>49</th>\n",
       "      <td>단 한번 단 한번밖에 못해도 그래도 널 사랑할 수 있을까 내 전불 다 걸고 내 앞에...</td>\n",
       "      <td>[단, 한번, 단, 한번, 밖에, 못, 해도, 그래도, 널, 사랑, 할, 수, 있을...</td>\n",
       "    </tr>\n",
       "  </tbody>\n",
       "</table>\n",
       "<p>205 rows × 2 columns</p>\n",
       "</div>"
      ],
      "text/plain": [
       "                                                   가사  \\\n",
       "0   오래 두었지 내방 창가엔 너란 기억의 화분 많은 계절이 흐르고 꽃은 다 졌지만 그래...   \n",
       "2   어느샌가 노을 진 하늘 너머 마중 나온 달빛이 우릴 반겨주네요 좀 더 걸을까요 조금...   \n",
       "3   어떻게 전할까 널 향한 내 진심 말로는 부족해 나 이렇게 노래해 겁이 많고 불안한 ...   \n",
       "4   그대 없는 하루가 또 의미도 없이 지나가네요   내 곁에서 머물러 줄 수 없나요 혼...   \n",
       "7   만약 나를 떠난다면 사랑했었던 기억도 없을거야 가끔 내 생각이 난다면 시간이 잊게 ...   \n",
       "..                                                ...   \n",
       "45  애써 나 웃어봐도 웃으려는게 더 슬퍼 보여 내 눈빛은 솔직해 안 슬프단 거짓말도 보...   \n",
       "46  자다 일어난 네 얼굴도 나에게는 보여도 좋아 술에 취해 털어 논 얘기들은 끝까지 꼭...   \n",
       "47  현아 날 버리지 말아요 현아 날 떠나지 말아요 현아 당신 떠나시면 이 슬픔 정말 어...   \n",
       "48  그때는 믿지 않았지 웃어버렸지 사랑하면서도 헤어져야 한다는 말에 아직도 믿진 않지만...   \n",
       "49  단 한번 단 한번밖에 못해도 그래도 널 사랑할 수 있을까 내 전불 다 걸고 내 앞에...   \n",
       "\n",
       "                                         lyrics_token  \n",
       "0   [오래, 두었지, 내, 방, 창가, 엔, 너, 란, 기억, 의, 화분, 많은, 계절...  \n",
       "2   [어느샌가, 노을, 진, 하늘, 너머, 마중, 나온, 달빛, 이, 우릴, 반겨주네요...  \n",
       "3   [어떻게, 전, 할까, 널, 향, 한, 내, 진심, 말, 로는, 부족해, 나, 이렇...  \n",
       "4   [그대, 없는, 하루, 가, 또, 의미, 도, 없이, 지나가네요, 내, 곁, 에서,...  \n",
       "7   [만약, 나를, 떠난다면, 사랑, 했었던, 기억, 도, 없을거야, 가끔, 내, 생각...  \n",
       "..                                                ...  \n",
       "45  [애써, 나, 웃어, 봐도, 웃으려는, 게, 더, 슬퍼, 보여, 내, 눈빛, 은, ...  \n",
       "46  [자다, 일어난, 네, 얼굴, 도, 나, 에게는, 보여도, 좋아, 술, 에, 취해,...  \n",
       "47  [현아, 날, 버리지, 말아요, 현아, 날, 떠나지, 말아요, 현아, 당신, 떠나시...  \n",
       "48  [그때, 는, 믿지, 않았지, 웃어, 버렸지, 사랑, 하면서도, 헤어져야, 한다는,...  \n",
       "49  [단, 한번, 단, 한번, 밖에, 못, 해도, 그래도, 널, 사랑, 할, 수, 있을...  \n",
       "\n",
       "[205 rows x 2 columns]"
      ]
     },
     "execution_count": 11,
     "metadata": {},
     "output_type": "execute_result"
    }
   ],
   "source": [
    "lyrics['lyrics_token'] = lyrics['가사'].apply(tokenizer)\n",
    "lyrics"
   ]
  },
  {
   "cell_type": "code",
   "execution_count": 13,
   "metadata": {},
   "outputs": [
    {
     "name": "stdout",
     "output_type": "stream",
     "text": [
      "최대 토큰 개수 :  373\n",
      "평균 토큰 개수 :  167.2390243902439\n"
     ]
    }
   ],
   "source": [
    "print('최대 토큰 개수 : ',(max(len(i) for i in lyrics['lyrics_token'])))\n",
    "print('평균 토큰 개수 : ',sum(map(len,lyrics['lyrics_token']))/len(lyrics['lyrics_token']))"
   ]
  },
  {
   "cell_type": "markdown",
   "metadata": {},
   "source": [
    "# Embedding"
   ]
  },
  {
   "cell_type": "markdown",
   "metadata": {},
   "source": [
    "- Embedding : text를 Vector로 변환시키는 방법 <br>\n",
    "- <a href = \"https://wikidocs.net/60854\"> Word2Vec </a>"
   ]
  },
  {
   "cell_type": "code",
   "execution_count": 15,
   "metadata": {},
   "outputs": [],
   "source": [
    "from gensim.models import Word2Vec\n",
    "model = Word2Vec(sentences=lyrics['lyrics_token'], vector_size = 100, window = 5, min_count= 0, workers = 4, sg = 1)"
   ]
  },
  {
   "cell_type": "code",
   "execution_count": 16,
   "metadata": {},
   "outputs": [
    {
     "data": {
      "text/plain": [
       "(5011, 100)"
      ]
     },
     "execution_count": 16,
     "metadata": {},
     "output_type": "execute_result"
    }
   ],
   "source": [
    "model.wv.vectors.shape"
   ]
  },
  {
   "cell_type": "code",
   "execution_count": 17,
   "metadata": {},
   "outputs": [
    {
     "name": "stdout",
     "output_type": "stream",
     "text": [
      "[('마음', 0.9901757836341858), ('우리', 0.9900771975517273), ('곁', 0.9900560975074768), ('모습', 0.9896457195281982), ('세상', 0.9884582757949829), ('의', 0.9882237911224365), ('천사', 0.988219141960144), ('지금', 0.9881084561347961), ('넌', 0.9875211119651794), ('안', 0.9872139096260071)]\n"
     ]
    }
   ],
   "source": [
    "# '나'와 유사한 키워드 추출\n",
    "\n",
    "model_result = model.wv.most_similar('나')\n",
    "print(model_result)"
   ]
  },
  {
   "cell_type": "code",
   "execution_count": null,
   "metadata": {},
   "outputs": [],
   "source": []
  }
 ],
 "metadata": {
  "kernelspec": {
   "display_name": "Python 3.8.13 ('nlp')",
   "language": "python",
   "name": "python3"
  },
  "language_info": {
   "codemirror_mode": {
    "name": "ipython",
    "version": 3
   },
   "file_extension": ".py",
   "mimetype": "text/x-python",
   "name": "python",
   "nbconvert_exporter": "python",
   "pygments_lexer": "ipython3",
   "version": "3.8.13"
  },
  "orig_nbformat": 4,
  "vscode": {
   "interpreter": {
    "hash": "8f7fa6e56b8fe71ca5cb413ccae427f7e8c8112f64ff30e1b8854b072d6c0c02"
   }
  }
 },
 "nbformat": 4,
 "nbformat_minor": 2
}
