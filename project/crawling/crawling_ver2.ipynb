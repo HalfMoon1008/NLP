{
 "cells": [
  {
   "cell_type": "code",
   "execution_count": 39,
   "metadata": {},
   "outputs": [],
   "source": [
    "# 라이브러리 import\n",
    "import os\n",
    "import pandas as pd\n",
    "import numpy as np\n",
    "import math \n",
    "\n",
    "# 셀레늄\n",
    "from selenium.webdriver.common.alert import Alert\n",
    "from selenium import webdriver  # 라이브러리(모듈) 가져오라\n",
    "# pip install chromedriver_autoinstaller\n",
    "from selenium.webdriver.common.keys import Keys\n",
    "from selenium.webdriver import ActionChains as AC\n",
    "from selenium.webdriver.common.by import By\n",
    "from selenium.webdriver.chrome.options import Options\n",
    "from selenium.webdriver.support.ui import WebDriverWait\n",
    "from selenium.webdriver.support import expected_conditions as EC\n",
    "from selenium.common.exceptions import TimeoutException\n",
    "\n",
    "# tqdm : for문 진행상황 체크\n",
    "from tqdm import tqdm, tqdm_notebook\n",
    "from tqdm.notebook import tqdm\n",
    "\n",
    "# 정규표현식(regular expression) : 문자(알파벳,한글), 숫자, 특수기호 정제 및 추출\n",
    "import re\n",
    "from time import sleep\n",
    "import time\n",
    "\n",
    "# 워닝 무시\n",
    "import warnings\n",
    "warnings.filterwarnings('ignore')"
   ]
  },
  {
   "cell_type": "code",
   "execution_count": 40,
   "metadata": {},
   "outputs": [],
   "source": [
    "# 구글 드라이브 경로\n",
    "path = \"/Users/sanghyun/miniforge3/envs/nlp/chromedriver\"\n",
    "driver = webdriver.Chrome(path)\n",
    "\n",
    "# 저장 경로 설정\n",
    "chrome_options = webdriver.ChromeOptions()\n",
    "down_path = '/Users/sanghyun/Desktop/Coding/NLP/project/crawling/data'\n",
    "prefs = {'download.default_directory' : down_path}\n",
    "chrome_options.add_experimental_option('prefs', prefs)\n",
    "\n",
    "\n",
    "chrome_options.add_argument(\"--window-size=800, 1200\") # window-size -> 기본 : 1920,1080"
   ]
  },
  {
   "cell_type": "code",
   "execution_count": 41,
   "metadata": {},
   "outputs": [
    {
     "data": {
      "application/vnd.jupyter.widget-view+json": {
       "model_id": "5d57ba2500684ec68e611f8543ec3c4a",
       "version_major": 2,
       "version_minor": 0
      },
      "text/plain": [
       "  0%|          | 0/100 [00:00<?, ?it/s]"
      ]
     },
     "metadata": {},
     "output_type": "display_data"
    },
    {
     "name": "stdout",
     "output_type": "stream",
     "text": [
      "현재 페이지 :  301\n"
     ]
    },
    {
     "data": {
      "application/vnd.jupyter.widget-view+json": {
       "model_id": "0a6c631f17a24f1ca91061e5e4fc155a",
       "version_major": 2,
       "version_minor": 0
      },
      "text/plain": [
       "  0%|          | 0/50 [00:00<?, ?it/s]"
      ]
     },
     "metadata": {},
     "output_type": "display_data"
    },
    {
     "name": "stdout",
     "output_type": "stream",
     "text": [
      "현재 페이지 :  302\n"
     ]
    },
    {
     "data": {
      "application/vnd.jupyter.widget-view+json": {
       "model_id": "8c5351bf26ed4b7d97acce742e4d6b19",
       "version_major": 2,
       "version_minor": 0
      },
      "text/plain": [
       "  0%|          | 0/50 [00:00<?, ?it/s]"
      ]
     },
     "metadata": {},
     "output_type": "display_data"
    },
    {
     "name": "stdout",
     "output_type": "stream",
     "text": [
      "현재 페이지 :  303\n"
     ]
    },
    {
     "data": {
      "application/vnd.jupyter.widget-view+json": {
       "model_id": "587e8df2537f440d9de9b230f5a69b29",
       "version_major": 2,
       "version_minor": 0
      },
      "text/plain": [
       "  0%|          | 0/50 [00:00<?, ?it/s]"
      ]
     },
     "metadata": {},
     "output_type": "display_data"
    },
    {
     "name": "stdout",
     "output_type": "stream",
     "text": [
      "현재 페이지 :  304\n"
     ]
    },
    {
     "data": {
      "application/vnd.jupyter.widget-view+json": {
       "model_id": "128a7f837a974f279c07a8462cc600e8",
       "version_major": 2,
       "version_minor": 0
      },
      "text/plain": [
       "  0%|          | 0/50 [00:00<?, ?it/s]"
      ]
     },
     "metadata": {},
     "output_type": "display_data"
    },
    {
     "name": "stdout",
     "output_type": "stream",
     "text": [
      "현재 페이지 :  305\n"
     ]
    },
    {
     "data": {
      "application/vnd.jupyter.widget-view+json": {
       "model_id": "e40c423f1dc24c9b9fbaba7bdd72e668",
       "version_major": 2,
       "version_minor": 0
      },
      "text/plain": [
       "  0%|          | 0/50 [00:00<?, ?it/s]"
      ]
     },
     "metadata": {},
     "output_type": "display_data"
    },
    {
     "name": "stdout",
     "output_type": "stream",
     "text": [
      "현재 페이지 :  306\n"
     ]
    },
    {
     "data": {
      "application/vnd.jupyter.widget-view+json": {
       "model_id": "1cf3c93ac6764d84bcce93e451deb19b",
       "version_major": 2,
       "version_minor": 0
      },
      "text/plain": [
       "  0%|          | 0/50 [00:00<?, ?it/s]"
      ]
     },
     "metadata": {},
     "output_type": "display_data"
    },
    {
     "ename": "NoSuchElementException",
     "evalue": "Message: no such element: Unable to locate element: {\"method\":\"css selector\",\"selector\":\".artist\"}\n  (Session info: chrome=103.0.5060.134)\nStacktrace:\n0   chromedriver                        0x0000000109ccfef9 chromedriver + 4480761\n1   chromedriver                        0x0000000109c5b5d3 chromedriver + 4003283\n2   chromedriver                        0x00000001098ee338 chromedriver + 410424\n3   chromedriver                        0x00000001099245bd chromedriver + 632253\n4   chromedriver                        0x0000000109924841 chromedriver + 632897\n5   chromedriver                        0x00000001099567d4 chromedriver + 837588\n6   chromedriver                        0x0000000109941a8d chromedriver + 752269\n7   chromedriver                        0x00000001099544f1 chromedriver + 828657\n8   chromedriver                        0x0000000109941953 chromedriver + 751955\n9   chromedriver                        0x0000000109917cd5 chromedriver + 580821\n10  chromedriver                        0x0000000109918d25 chromedriver + 584997\n11  chromedriver                        0x0000000109ca102d chromedriver + 4288557\n12  chromedriver                        0x0000000109ca61b3 chromedriver + 4309427\n13  chromedriver                        0x0000000109cab23f chromedriver + 4330047\n14  chromedriver                        0x0000000109ca6dfa chromedriver + 4312570\n15  chromedriver                        0x0000000109c7ffef chromedriver + 4153327\n16  chromedriver                        0x0000000109cc0d78 chromedriver + 4418936\n17  chromedriver                        0x0000000109cc0eff chromedriver + 4419327\n18  chromedriver                        0x0000000109cd7ab5 chromedriver + 4512437\n19  libsystem_pthread.dylib             0x00007ff81f0a44e1 _pthread_start + 125\n20  libsystem_pthread.dylib             0x00007ff81f09ff6b thread_start + 15\n",
     "output_type": "error",
     "traceback": [
      "\u001b[0;31m---------------------------------------------------------------------------\u001b[0m",
      "\u001b[0;31mNoSuchElementException\u001b[0m                    Traceback (most recent call last)",
      "\u001b[1;32m/Users/sanghyun/Desktop/Coding/NLP/project/crawling_ver2.ipynb 셀 3\u001b[0m in \u001b[0;36m<cell line: 11>\u001b[0;34m()\u001b[0m\n\u001b[1;32m     <a href='vscode-notebook-cell:/Users/sanghyun/Desktop/Coding/NLP/project/crawling_ver2.ipynb#ch0000003?line=25'>26</a>\u001b[0m driver\u001b[39m.\u001b[39mfind_element(By\u001b[39m.\u001b[39mCSS_SELECTOR,\u001b[39mf\u001b[39m\u001b[39m\"\u001b[39m\u001b[39m#frm > div > table > tbody > tr:nth-child(\u001b[39m\u001b[39m{\u001b[39;00mi\u001b[39m}\u001b[39;00m\u001b[39m) > td:nth-child(4) > div > a\u001b[39m\u001b[39m\"\u001b[39m)\u001b[39m.\u001b[39mclick()\n\u001b[1;32m     <a href='vscode-notebook-cell:/Users/sanghyun/Desktop/Coding/NLP/project/crawling_ver2.ipynb#ch0000003?line=27'>28</a>\u001b[0m \u001b[39m## 파일명 설정 및 파일 생성\u001b[39;00m\n\u001b[1;32m     <a href='vscode-notebook-cell:/Users/sanghyun/Desktop/Coding/NLP/project/crawling_ver2.ipynb#ch0000003?line=28'>29</a>\u001b[0m \n\u001b[1;32m     <a href='vscode-notebook-cell:/Users/sanghyun/Desktop/Coding/NLP/project/crawling_ver2.ipynb#ch0000003?line=29'>30</a>\u001b[0m \u001b[39m# 가수 이름 추출\u001b[39;00m\n\u001b[0;32m---> <a href='vscode-notebook-cell:/Users/sanghyun/Desktop/Coding/NLP/project/crawling_ver2.ipynb#ch0000003?line=30'>31</a>\u001b[0m artist_name \u001b[39m=\u001b[39m driver\u001b[39m.\u001b[39;49mfind_element(By\u001b[39m.\u001b[39;49mCSS_SELECTOR, \u001b[39m\"\u001b[39;49m\u001b[39m.artist\u001b[39;49m\u001b[39m\"\u001b[39;49m)\u001b[39m.\u001b[39mtext\n\u001b[1;32m     <a href='vscode-notebook-cell:/Users/sanghyun/Desktop/Coding/NLP/project/crawling_ver2.ipynb#ch0000003?line=31'>32</a>\u001b[0m artist_names\u001b[39m.\u001b[39mappend(artist_name)\n\u001b[1;32m     <a href='vscode-notebook-cell:/Users/sanghyun/Desktop/Coding/NLP/project/crawling_ver2.ipynb#ch0000003?line=33'>34</a>\u001b[0m \u001b[39m# 곡명 추출\u001b[39;00m\n",
      "File \u001b[0;32m~/miniforge3/envs/nlp/lib/python3.8/site-packages/selenium/webdriver/remote/webdriver.py:857\u001b[0m, in \u001b[0;36mWebDriver.find_element\u001b[0;34m(self, by, value)\u001b[0m\n\u001b[1;32m    854\u001b[0m     by \u001b[39m=\u001b[39m By\u001b[39m.\u001b[39mCSS_SELECTOR\n\u001b[1;32m    855\u001b[0m     value \u001b[39m=\u001b[39m \u001b[39m'\u001b[39m\u001b[39m[name=\u001b[39m\u001b[39m\"\u001b[39m\u001b[39m%s\u001b[39;00m\u001b[39m\"\u001b[39m\u001b[39m]\u001b[39m\u001b[39m'\u001b[39m \u001b[39m%\u001b[39m value\n\u001b[0;32m--> 857\u001b[0m \u001b[39mreturn\u001b[39;00m \u001b[39mself\u001b[39;49m\u001b[39m.\u001b[39;49mexecute(Command\u001b[39m.\u001b[39;49mFIND_ELEMENT, {\n\u001b[1;32m    858\u001b[0m     \u001b[39m'\u001b[39;49m\u001b[39musing\u001b[39;49m\u001b[39m'\u001b[39;49m: by,\n\u001b[1;32m    859\u001b[0m     \u001b[39m'\u001b[39;49m\u001b[39mvalue\u001b[39;49m\u001b[39m'\u001b[39;49m: value})[\u001b[39m'\u001b[39m\u001b[39mvalue\u001b[39m\u001b[39m'\u001b[39m]\n",
      "File \u001b[0;32m~/miniforge3/envs/nlp/lib/python3.8/site-packages/selenium/webdriver/remote/webdriver.py:435\u001b[0m, in \u001b[0;36mWebDriver.execute\u001b[0;34m(self, driver_command, params)\u001b[0m\n\u001b[1;32m    433\u001b[0m response \u001b[39m=\u001b[39m \u001b[39mself\u001b[39m\u001b[39m.\u001b[39mcommand_executor\u001b[39m.\u001b[39mexecute(driver_command, params)\n\u001b[1;32m    434\u001b[0m \u001b[39mif\u001b[39;00m response:\n\u001b[0;32m--> 435\u001b[0m     \u001b[39mself\u001b[39;49m\u001b[39m.\u001b[39;49merror_handler\u001b[39m.\u001b[39;49mcheck_response(response)\n\u001b[1;32m    436\u001b[0m     response[\u001b[39m'\u001b[39m\u001b[39mvalue\u001b[39m\u001b[39m'\u001b[39m] \u001b[39m=\u001b[39m \u001b[39mself\u001b[39m\u001b[39m.\u001b[39m_unwrap_value(\n\u001b[1;32m    437\u001b[0m         response\u001b[39m.\u001b[39mget(\u001b[39m'\u001b[39m\u001b[39mvalue\u001b[39m\u001b[39m'\u001b[39m, \u001b[39mNone\u001b[39;00m))\n\u001b[1;32m    438\u001b[0m     \u001b[39mreturn\u001b[39;00m response\n",
      "File \u001b[0;32m~/miniforge3/envs/nlp/lib/python3.8/site-packages/selenium/webdriver/remote/errorhandler.py:247\u001b[0m, in \u001b[0;36mErrorHandler.check_response\u001b[0;34m(self, response)\u001b[0m\n\u001b[1;32m    245\u001b[0m         alert_text \u001b[39m=\u001b[39m value[\u001b[39m'\u001b[39m\u001b[39malert\u001b[39m\u001b[39m'\u001b[39m]\u001b[39m.\u001b[39mget(\u001b[39m'\u001b[39m\u001b[39mtext\u001b[39m\u001b[39m'\u001b[39m)\n\u001b[1;32m    246\u001b[0m     \u001b[39mraise\u001b[39;00m exception_class(message, screen, stacktrace, alert_text)  \u001b[39m# type: ignore[call-arg]  # mypy is not smart enough here\u001b[39;00m\n\u001b[0;32m--> 247\u001b[0m \u001b[39mraise\u001b[39;00m exception_class(message, screen, stacktrace)\n",
      "\u001b[0;31mNoSuchElementException\u001b[0m: Message: no such element: Unable to locate element: {\"method\":\"css selector\",\"selector\":\".artist\"}\n  (Session info: chrome=103.0.5060.134)\nStacktrace:\n0   chromedriver                        0x0000000109ccfef9 chromedriver + 4480761\n1   chromedriver                        0x0000000109c5b5d3 chromedriver + 4003283\n2   chromedriver                        0x00000001098ee338 chromedriver + 410424\n3   chromedriver                        0x00000001099245bd chromedriver + 632253\n4   chromedriver                        0x0000000109924841 chromedriver + 632897\n5   chromedriver                        0x00000001099567d4 chromedriver + 837588\n6   chromedriver                        0x0000000109941a8d chromedriver + 752269\n7   chromedriver                        0x00000001099544f1 chromedriver + 828657\n8   chromedriver                        0x0000000109941953 chromedriver + 751955\n9   chromedriver                        0x0000000109917cd5 chromedriver + 580821\n10  chromedriver                        0x0000000109918d25 chromedriver + 584997\n11  chromedriver                        0x0000000109ca102d chromedriver + 4288557\n12  chromedriver                        0x0000000109ca61b3 chromedriver + 4309427\n13  chromedriver                        0x0000000109cab23f chromedriver + 4330047\n14  chromedriver                        0x0000000109ca6dfa chromedriver + 4312570\n15  chromedriver                        0x0000000109c7ffef chromedriver + 4153327\n16  chromedriver                        0x0000000109cc0d78 chromedriver + 4418936\n17  chromedriver                        0x0000000109cc0eff chromedriver + 4419327\n18  chromedriver                        0x0000000109cd7ab5 chromedriver + 4512437\n19  libsystem_pthread.dylib             0x00007ff81f0a44e1 _pthread_start + 125\n20  libsystem_pthread.dylib             0x00007ff81f09ff6b thread_start + 15\n"
     ]
    }
   ],
   "source": [
    "# Page Task : (301 - 400)\n",
    "\n",
    "\n",
    "# 306 Page부터 시작\n",
    "start_page = 306\n",
    "list_url = f'https://www.melon.com/genre/song_list.htm?gnrCode=GN0100#params%5BgnrCode%5D=GN0100&params%5BdtlGnrCode%5D=&params%5BorderBy%5D=POP&params%5BsteadyYn%5D=N&po=pageObj&startIndex={(50*start_page)-49}'\n",
    "\n",
    "driver.get(list_url)\n",
    "\n",
    "time.sleep(2)\n",
    "\n",
    "for p in tqdm(range(301,401)):\n",
    "\n",
    "    a = np.random.randint(3,5)\n",
    "\n",
    "    page_num = p\n",
    "    print(\"현재 페이지 : \",page_num)  \n",
    "\n",
    "    artist_names = []\n",
    "    song_names = []\n",
    "    lyrics = []\n",
    "\n",
    "    # 50개의 슬롯에 대한 가수, 곡명, 가사 저장\n",
    "    for i in tqdm(range(1,51)):\n",
    "        \n",
    "        ## 가사 클릭 후 들어가기\n",
    "        driver.find_element(By.CSS_SELECTOR,f\"#frm > div > table > tbody > tr:nth-child({i}) > td:nth-child(4) > div > a\").click()\n",
    "\n",
    "        ## 파일명 설정 및 파일 생성\n",
    "\n",
    "        # 가수 이름 추출\n",
    "        artist_name = driver.find_element(By.CSS_SELECTOR, \".artist\").text\n",
    "        artist_names.append(artist_name)\n",
    "\n",
    "        # 곡명 추출\n",
    "        \n",
    "        song_name = driver.find_element(By.CSS_SELECTOR, \"div.song_name\").text\n",
    "        song_names.append(song_name)\n",
    "\n",
    "\n",
    "        # 가사 있을 때\n",
    "        \n",
    "        try:\n",
    "            # 펼치기 아이콘 클릭\n",
    "            driver.find_element(By.CSS_SELECTOR, \"button.button_more.arrow_d\").click()\n",
    "\n",
    "            # 가사 크롤링\n",
    "            lyric = driver.find_element(By.ID, \"d_video_summary\").text\n",
    "            lyrics.append(lyric)\n",
    "\n",
    "            \n",
    "        # 가사 없을 때\n",
    "        except:\n",
    "            lyric = \"[가사 준비중]\"\n",
    "            lyrics.append(lyric)\n",
    "\n",
    "        driver.back()\n",
    "\n",
    "        time.sleep(a)\n",
    "\n",
    "    seed = np.random.randint(100)\n",
    "    np.random.seed(seed)\n",
    "    time.sleep(a)\n",
    "\n",
    "    page_coll = {}\n",
    "\n",
    "    page_coll['artist_name'] = artist_names\n",
    "    page_coll['song_name'] = song_names\n",
    "    page_coll['lyric'] = lyrics\n",
    "\n",
    "    target_df = pd.DataFrame.from_dict(page_coll, orient='index')\n",
    "    df = target_df.transpose()\n",
    "\n",
    "    df.to_csv(f\"melon_ballad({p}).csv\", encoding='utf-8-sig')\n",
    "\n",
    "    # url 설정 (해당 페이지에 대한 url)\n",
    "    page_url = f'https://www.melon.com/genre/song_list.htm?gnrCode=GN0100#params%5BgnrCode%5D=GN0100&params%5BdtlGnrCode%5D=&params%5BorderBy%5D=POP&params%5BsteadyYn%5D=N&po=pageObj&startIndex={1+(50*p)}'\n",
    "   \n",
    "    \n",
    "    # url 접속\n",
    "    driver.get(page_url)\n",
    "\n",
    "    a = np.random.randint(60,100)\n",
    "    time.sleep(a)\n"
   ]
  },
  {
   "cell_type": "code",
   "execution_count": null,
   "metadata": {},
   "outputs": [],
   "source": []
  }
 ],
 "metadata": {
  "kernelspec": {
   "display_name": "Python 3.8.13 ('nlp')",
   "language": "python",
   "name": "python3"
  },
  "language_info": {
   "codemirror_mode": {
    "name": "ipython",
    "version": 3
   },
   "file_extension": ".py",
   "mimetype": "text/x-python",
   "name": "python",
   "nbconvert_exporter": "python",
   "pygments_lexer": "ipython3",
   "version": "3.8.13"
  },
  "orig_nbformat": 4,
  "vscode": {
   "interpreter": {
    "hash": "8f7fa6e56b8fe71ca5cb413ccae427f7e8c8112f64ff30e1b8854b072d6c0c02"
   }
  }
 },
 "nbformat": 4,
 "nbformat_minor": 2
}
